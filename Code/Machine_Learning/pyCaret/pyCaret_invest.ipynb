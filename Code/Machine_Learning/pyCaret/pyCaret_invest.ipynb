{
 "cells": [
  {
   "cell_type": "markdown",
   "id": "c037566c",
   "metadata": {},
   "source": [
    "# 真槍實戰選基金"
   ]
  },
  {
   "cell_type": "code",
   "execution_count": 1,
   "id": "3e07598a",
   "metadata": {},
   "outputs": [],
   "source": [
    "import numpy as np\n",
    "import pandas as pd\n",
    "from pycaret.regression import *\n",
    "import statsmodels.api as sm\n",
    "from statsmodels.regression.rolling import RollingOLS"
   ]
  },
  {
   "cell_type": "code",
   "execution_count": 2,
   "id": "4c1db550",
   "metadata": {},
   "outputs": [
    {
     "name": "stdout",
     "output_type": "stream",
     "text": [
      "Transformation Pipeline and Model Successfully Loaded\n"
     ]
    }
   ],
   "source": [
    "path = \"/Users/alex_chiang/Documents/Fin_tech/AI基金/classified/\"\n",
    "MLpath = \"/Users/alex_chiang/Documents/Fin_tech/AI基金/data_ML/\"\n",
    "MODELpath = '/Users/alex_chiang/Documents/Fin_tech/AI基金/ML_result/pyCaret_model/'\n",
    "\n",
    "jp_equity = pd.read_csv(path + 'jp_equity.csv', parse_dates=True, index_col='Datetime')\n",
    "model_jp_equity = load_model(MODELpath + 'ML_jp_equity_model')\n",
    "ML_jp_equity = pd.read_csv(MLpath+'ML_jp_equity.csv', parse_dates = True, index_col = ['Datetime', 'fund_id'])\n",
    "ML_jp_equity.sort_index(level = 0, inplace = True)"
   ]
  },
  {
   "cell_type": "code",
   "execution_count": 3,
   "id": "ada1d617",
   "metadata": {},
   "outputs": [],
   "source": [
    "def invest_funds(df, df_XY, model):\n",
    "\n",
    "    df = df.iloc[-242:]\n",
    "    fund_id = df.columns\n",
    "    \n",
    "    # 計算市場平均報酬\n",
    "    mkt_ret = df.pct_change().mean(axis = 1).to_frame().dropna()\n",
    "    mkt_ret = mkt_ret.rolling(240).mean()\n",
    "    \n",
    "    df_ML = pd.DataFrame()\n",
    "    for i in fund_id:\n",
    "        ret = df[[i]].pct_change().dropna()\n",
    "        neg_ret = ret.applymap(lambda x: 0 if x > 0 else x)\n",
    "        \n",
    "        # x1: 報酬率的平均數\n",
    "        X_mean = ret.rolling(240).mean()\n",
    "        X_mean.rename(columns = {i:'X_mean'}, inplace = True)\n",
    "        \n",
    "        # x2: 報酬率的標準差\n",
    "        X_std = ret.rolling(240).std()\n",
    "        X_std.rename(columns = {i:'X_std'}, inplace = True)\n",
    "        \n",
    "        # x3: 報酬率的負標準差\n",
    "        X_neg_std = neg_ret.rolling(240).std()\n",
    "        X_neg_std.rename(columns = {i:'X_neg_std'}, inplace = True)\n",
    "        \n",
    "        # x4: 報酬率的偏態係數\n",
    "        X_skew = ret.rolling(240).skew()\n",
    "        X_skew.rename(columns = {i:'X_skew'}, inplace = True)\n",
    "        \n",
    "        # x5: 報酬率的峰度係數\n",
    "        X_kurt = ret.rolling(240).kurt()\n",
    "        X_kurt.rename(columns = {i:'X_kurt'}, inplace = True)\n",
    "        \n",
    "        # x6: 平均報酬率漲跌幅\n",
    "        X_return_growth = (X_mean - X_mean.shift(1)) / abs(X_mean.shift(1))\n",
    "        X_return_growth.rename(columns = {'X_mean':'X_return_growth'}, inplace = True)\n",
    "        \n",
    "        # x7: 基金報酬率相對於市場報酬率的比率\n",
    "        X_fund_to_market_return = (X_mean['X_mean'] / mkt_ret[0]).to_frame()\n",
    "        X_fund_to_market_return.rename(columns = {0:'X_fund_to_market_return'}, inplace = True)\n",
    "        \n",
    "        # x8: sharpe ratio\n",
    "        X_sharpe_ratio = (X_mean['X_mean'] / X_std['X_std']).to_frame()\n",
    "        X_sharpe_ratio.rename(columns = {0:'X_sharpe_ratio'}, inplace = True)\n",
    "        \n",
    "        # x9: sortino ratio\n",
    "        X_sortino_ratio = (X_mean['X_mean'] / X_neg_std['X_neg_std']).to_frame()\n",
    "        X_sortino_ratio.rename(columns = {0:'X_sortino_ratio'}, inplace = True)\n",
    "        \n",
    "        # x10: maximum drawdown\n",
    "        log_ret = np.log(df[[i]]/df[[i]].shift(1)).dropna()\n",
    "        roll_cumsum = log_ret.rolling(min_periods = 1, window = 240).sum()\n",
    "        roll_max = roll_cumsum.rolling(min_periods = 1, window = 240).max()\n",
    "        X_max_drawdown = abs(roll_cumsum - roll_max)\n",
    "        X_max_drawdown.rename(columns = {i:'X_max_drawdown'}, inplace = True)\n",
    "        \n",
    "        # x11: calmar ratio\n",
    "        X_calmar_ratio = (X_mean['X_mean'] / X_max_drawdown['X_max_drawdown']).to_frame()\n",
    "        X_calmar_ratio = X_calmar_ratio.applymap(lambda x: np.nan if (x == np.Inf or x == -np.Inf) else x)\n",
    "        X_calmar_ratio = X_calmar_ratio.fillna(method='ffill').fillna(method='bfill')\n",
    "        X_calmar_ratio.rename(columns = {0:'X_calmar_ratio'}, inplace = True)\n",
    "        \n",
    "        # x12, x13: alpha, beta\n",
    "        X = sm.add_constant(mkt_ret)\n",
    "        rolling = RollingOLS(endog=X_mean, exog=X, window=240)\n",
    "        X_alpha = rolling.fit().params.iloc[:,0].to_frame()\n",
    "        X_alpha.rename(columns = {'const':'X_alpha'}, inplace = True)\n",
    "        X_beta = rolling.fit().params.iloc[:,1].to_frame()\n",
    "        X_beta.rename(columns = {0:'X_beta'}, inplace = True)\n",
    "    \n",
    "        df_each = pd.concat([X_mean, X_std, X_neg_std, \n",
    "                             X_skew, X_kurt, X_return_growth,\n",
    "                             X_fund_to_market_return, X_sharpe_ratio,\n",
    "                             X_sortino_ratio, X_max_drawdown,\n",
    "                             X_calmar_ratio, X_alpha, X_beta], axis=1).dropna() \n",
    "        \n",
    "        df_each['fund_id'] = i\n",
    "        df_ML = pd.concat([df_ML, df_each], axis = 0)\n",
    "    \n",
    "    df_ML.set_index('fund_id', append = True, inplace = True)\n",
    "    df_ML.sort_index(level = 0, inplace = True)\n",
    "    \n",
    "    # 模型建立\n",
    "    df_predict = pd.DataFrame(predict_model(model, data=df_ML)['Label'])\n",
    "    df_predict.index = fund_id\n",
    "    return df_predict.nlargest(5, 'Label').index "
   ]
  },
  {
   "cell_type": "code",
   "execution_count": 4,
   "id": "165c9a1f",
   "metadata": {},
   "outputs": [
    {
     "data": {
      "text/plain": [
       "Index(['L84', '71Q', '866', 'F71', '777'], dtype='object')"
      ]
     },
     "execution_count": 4,
     "metadata": {},
     "output_type": "execute_result"
    }
   ],
   "source": [
    "# jp_equity\n",
    "invest_funds(df = jp_equity, df_XY = ML_jp_equity, model = model_jp_equity)"
   ]
  },
  {
   "cell_type": "code",
   "execution_count": null,
   "id": "494ea21b",
   "metadata": {},
   "outputs": [],
   "source": []
  }
 ],
 "metadata": {
  "kernelspec": {
   "display_name": "ML4Tpy38",
   "language": "python",
   "name": "ml4tpy38"
  },
  "language_info": {
   "codemirror_mode": {
    "name": "ipython",
    "version": 3
   },
   "file_extension": ".py",
   "mimetype": "text/x-python",
   "name": "python",
   "nbconvert_exporter": "python",
   "pygments_lexer": "ipython3",
   "version": "3.8.8"
  }
 },
 "nbformat": 4,
 "nbformat_minor": 5
}
